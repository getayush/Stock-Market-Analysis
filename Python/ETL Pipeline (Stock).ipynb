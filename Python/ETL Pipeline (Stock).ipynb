{
 "cells": [
  {
   "cell_type": "code",
   "execution_count": 1,
   "id": "b93685c0",
   "metadata": {},
   "outputs": [
    {
     "data": {
      "text/html": [
       "<div>\n",
       "<style scoped>\n",
       "    .dataframe tbody tr th:only-of-type {\n",
       "        vertical-align: middle;\n",
       "    }\n",
       "\n",
       "    .dataframe tbody tr th {\n",
       "        vertical-align: top;\n",
       "    }\n",
       "\n",
       "    .dataframe thead th {\n",
       "        text-align: right;\n",
       "    }\n",
       "</style>\n",
       "<table border=\"1\" class=\"dataframe\">\n",
       "  <thead>\n",
       "    <tr style=\"text-align: right;\">\n",
       "      <th></th>\n",
       "      <th>Date</th>\n",
       "      <th>Open</th>\n",
       "      <th>High</th>\n",
       "      <th>Low</th>\n",
       "      <th>Close</th>\n",
       "      <th>Adj Close</th>\n",
       "      <th>Volume</th>\n",
       "    </tr>\n",
       "  </thead>\n",
       "  <tbody>\n",
       "    <tr>\n",
       "      <th>0</th>\n",
       "      <td>1980-03-17</td>\n",
       "      <td>0.0</td>\n",
       "      <td>5.129630</td>\n",
       "      <td>5.018518</td>\n",
       "      <td>5.037037</td>\n",
       "      <td>0.293599</td>\n",
       "      <td>62400</td>\n",
       "    </tr>\n",
       "    <tr>\n",
       "      <th>1</th>\n",
       "      <td>1980-03-18</td>\n",
       "      <td>0.0</td>\n",
       "      <td>5.111111</td>\n",
       "      <td>5.037037</td>\n",
       "      <td>5.074074</td>\n",
       "      <td>0.295758</td>\n",
       "      <td>63900</td>\n",
       "    </tr>\n",
       "    <tr>\n",
       "      <th>2</th>\n",
       "      <td>1980-03-19</td>\n",
       "      <td>0.0</td>\n",
       "      <td>5.166667</td>\n",
       "      <td>5.111111</td>\n",
       "      <td>5.148148</td>\n",
       "      <td>0.300075</td>\n",
       "      <td>40500</td>\n",
       "    </tr>\n",
       "    <tr>\n",
       "      <th>3</th>\n",
       "      <td>1980-03-20</td>\n",
       "      <td>0.0</td>\n",
       "      <td>5.148148</td>\n",
       "      <td>5.092593</td>\n",
       "      <td>5.111111</td>\n",
       "      <td>0.297916</td>\n",
       "      <td>18900</td>\n",
       "    </tr>\n",
       "    <tr>\n",
       "      <th>4</th>\n",
       "      <td>1980-03-21</td>\n",
       "      <td>0.0</td>\n",
       "      <td>5.222222</td>\n",
       "      <td>5.111111</td>\n",
       "      <td>5.222222</td>\n",
       "      <td>0.304393</td>\n",
       "      <td>97200</td>\n",
       "    </tr>\n",
       "  </tbody>\n",
       "</table>\n",
       "</div>"
      ],
      "text/plain": [
       "         Date  Open      High       Low     Close  Adj Close  Volume\n",
       "0  1980-03-17   0.0  5.129630  5.018518  5.037037   0.293599   62400\n",
       "1  1980-03-18   0.0  5.111111  5.037037  5.074074   0.295758   63900\n",
       "2  1980-03-19   0.0  5.166667  5.111111  5.148148   0.300075   40500\n",
       "3  1980-03-20   0.0  5.148148  5.092593  5.111111   0.297916   18900\n",
       "4  1980-03-21   0.0  5.222222  5.111111  5.222222   0.304393   97200"
      ]
     },
     "execution_count": 1,
     "metadata": {},
     "output_type": "execute_result"
    }
   ],
   "source": [
    "import pandas as pd\n",
    "\n",
    "df=pd.read_csv(r\"E:\\Github Projects\\Stock Market\\stocks\\JPM.csv\")\n",
    "df.head()"
   ]
  },
  {
   "cell_type": "code",
   "execution_count": 2,
   "id": "f60060a4",
   "metadata": {},
   "outputs": [
    {
     "data": {
      "text/plain": [
       "Date          object\n",
       "Open         float64\n",
       "High         float64\n",
       "Low          float64\n",
       "Close        float64\n",
       "Adj Close    float64\n",
       "Volume         int64\n",
       "dtype: object"
      ]
     },
     "execution_count": 2,
     "metadata": {},
     "output_type": "execute_result"
    }
   ],
   "source": [
    "df.dtypes"
   ]
  },
  {
   "cell_type": "markdown",
   "id": "a39396e0",
   "metadata": {},
   "source": [
    "<span style=\"color: blue; font-size: 15px;\">We can see that the datatype of 'Date' is object and not datetime\n",
    "We can calculate the moving average and daily returns for the ETL Pipeline</span>"
   ]
  },
  {
   "cell_type": "markdown",
   "id": "bc939ccf",
   "metadata": {},
   "source": [
    " <span style=\"color: blue; font-size: 15px;\">ETL Pipeline Outline:</span><br> \n",
    " <span style=\"color: blue; font-size: 15px;\">-- Extract the dataset for Stocks</span>  \n",
    " <span style=\"color: blue; font-size: 15px;\">-- Transform the 'Date' column to datetime from object and calculate Moving</span><span style=\"color: blue; font-size: 15px;\">Averages and Daily Return for each Stock dataset</span>      \n",
    "<span style=\"color: blue; font-size: 15px;\">-- Load the transformed data to table to SSMS</span>"
   ]
  },
  {
   "cell_type": "code",
   "execution_count": null,
   "id": "ab0855c5",
   "metadata": {},
   "outputs": [],
   "source": [
    "import pyodbc\n",
    "df = pd.read_csv(r\"E:\\Github Projects\\Stock Market\\stocks\\JPM.csv\")\n",
    "\n",
    "# Transform\n",
    "df['Date'] = pd.to_datetime(df['Date'])\n",
    "df['30_day_MA'] = df['Adj Close'].rolling(window=30).mean()\n",
    "df['100_day_MA'] = df['Adj Close'].rolling(window=100).mean()\n",
    "df['Daily_Return'] = df['Adj Close'].pct_change().round(4)\n",
    "\n",
    "# Load\n",
    "server = 'AYUSH\\SQLEXPRESS'\n",
    "database = 'Stock Market'\n",
    "\n",
    "conn_string = f'DRIVER={{SQL Server}};SERVER={server};DATABASE={database};TRUSTED_CONNECTION=yes'\n",
    "cnxn = pyodbc.connect(conn_string)\n",
    "cursor = cnxn.cursor()\n",
    "\n",
    "insert_query = '''\n",
    "INSERT INTO dbo.Stocks ([Date], [Open], [High], [Low], [Close], [Adj Close], [Volume], [30_day_MA], [100_day_MA], [Daily_Return]) \n",
    "VALUES (?, ?, ?, ?, ?, ?, ?, ?, ?, ?)\n",
    "'''\n",
    "df.fillna(value=pd.NA, inplace=True)\n",
    "df = df.where(pd.notna(df), None)\n",
    "\n",
    "for index, row in df.iterrows():\n",
    "    cursor.execute(insert_query, \n",
    "                   row['Date'].to_pydatetime(),  # Ensure Date is a Python datetime, not pandas Timestamp\n",
    "                   row['Open'],\n",
    "                   row['High'],\n",
    "                   row['Low'],\n",
    "                   row['Close'],\n",
    "                   row['Adj Close'],\n",
    "                   row['Volume'],\n",
    "                   row['30_day_MA'],\n",
    "                   row['100_day_MA'],\n",
    "                   row['Daily_Return'])\n",
    "    cnxn.commit()\n",
    "\n",
    "cursor.close()\n",
    "cnxn.close()"
   ]
  }
 ],
 "metadata": {
  "kernelspec": {
   "display_name": "Python 3 (ipykernel)",
   "language": "python",
   "name": "python3"
  },
  "language_info": {
   "codemirror_mode": {
    "name": "ipython",
    "version": 3
   },
   "file_extension": ".py",
   "mimetype": "text/x-python",
   "name": "python",
   "nbconvert_exporter": "python",
   "pygments_lexer": "ipython3",
   "version": "3.9.7"
  }
 },
 "nbformat": 4,
 "nbformat_minor": 5
}
